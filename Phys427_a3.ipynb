{
 "cells": [
  {
   "cell_type": "code",
   "execution_count": 1,
   "metadata": {},
   "outputs": [],
   "source": [
    "#Phys427 Assignment 3\n",
    "#Kai Jin"
   ]
  },
  {
   "cell_type": "code",
   "execution_count": 2,
   "metadata": {},
   "outputs": [],
   "source": [
    "#Open root file\n",
    "import uproot\n",
    "\n",
    "def open(filename):\n",
    "    return uproot.open(filename)"
   ]
  },
  {
   "cell_type": "code",
   "execution_count": 3,
   "metadata": {},
   "outputs": [],
   "source": [
    "#Make a histogram with given data and title\n",
    "import matplotlib.pyplot as plt\n",
    "\n",
    "def make_hist(data, title, label_x, label_y, nbin):\n",
    "    plt.hist(data, nbin)\n",
    "    plt.title(title)\n",
    "    plt.xlabel(label_x)\n",
    "    plt.ylabel(label_y)"
   ]
  },
  {
   "cell_type": "code",
   "execution_count": 4,
   "metadata": {},
   "outputs": [
    {
     "data": {
      "text/html": [
       "<div>\n",
       "<style scoped>\n",
       "    .dataframe tbody tr th:only-of-type {\n",
       "        vertical-align: middle;\n",
       "    }\n",
       "\n",
       "    .dataframe tbody tr th {\n",
       "        vertical-align: top;\n",
       "    }\n",
       "\n",
       "    .dataframe thead th {\n",
       "        text-align: right;\n",
       "    }\n",
       "</style>\n",
       "<table border=\"1\" class=\"dataframe\">\n",
       "  <thead>\n",
       "    <tr style=\"text-align: right;\">\n",
       "      <th></th>\n",
       "      <th>RunNumber</th>\n",
       "      <th>EventNumber</th>\n",
       "      <th>JetPt</th>\n",
       "      <th>JetEta</th>\n",
       "      <th>JetPhi</th>\n",
       "      <th>IsLLP</th>\n",
       "      <th>nLLPs_Near_Jets</th>\n",
       "      <th>Lx</th>\n",
       "      <th>Ly</th>\n",
       "      <th>Lz</th>\n",
       "      <th>...</th>\n",
       "      <th>EH_CVL2</th>\n",
       "      <th>EH_TGL0</th>\n",
       "      <th>EH_TGL1</th>\n",
       "      <th>EH_TGL2</th>\n",
       "      <th>EH_EBL0</th>\n",
       "      <th>EH_EBL1</th>\n",
       "      <th>EH_EBL2</th>\n",
       "      <th>FC_L0</th>\n",
       "      <th>FC_L1</th>\n",
       "      <th>FC_L2</th>\n",
       "    </tr>\n",
       "    <tr>\n",
       "      <th>entry</th>\n",
       "      <th></th>\n",
       "      <th></th>\n",
       "      <th></th>\n",
       "      <th></th>\n",
       "      <th></th>\n",
       "      <th></th>\n",
       "      <th></th>\n",
       "      <th></th>\n",
       "      <th></th>\n",
       "      <th></th>\n",
       "      <th></th>\n",
       "      <th></th>\n",
       "      <th></th>\n",
       "      <th></th>\n",
       "      <th></th>\n",
       "      <th></th>\n",
       "      <th></th>\n",
       "      <th></th>\n",
       "      <th></th>\n",
       "      <th></th>\n",
       "      <th></th>\n",
       "    </tr>\n",
       "  </thead>\n",
       "  <tbody>\n",
       "    <tr>\n",
       "      <td>0</td>\n",
       "      <td>284500.0</td>\n",
       "      <td>2041602.0</td>\n",
       "      <td>50.151355</td>\n",
       "      <td>1.767030</td>\n",
       "      <td>0.074290</td>\n",
       "      <td>True</td>\n",
       "      <td>1</td>\n",
       "      <td>1851.684326</td>\n",
       "      <td>178.223892</td>\n",
       "      <td>5354.035156</td>\n",
       "      <td>...</td>\n",
       "      <td>0.000000</td>\n",
       "      <td>0.000000</td>\n",
       "      <td>0.000000</td>\n",
       "      <td>0.000000</td>\n",
       "      <td>0.019344</td>\n",
       "      <td>0.000731</td>\n",
       "      <td>0.000000</td>\n",
       "      <td>0.0</td>\n",
       "      <td>0.0</td>\n",
       "      <td>0.0</td>\n",
       "    </tr>\n",
       "    <tr>\n",
       "      <td>1</td>\n",
       "      <td>284500.0</td>\n",
       "      <td>2041537.0</td>\n",
       "      <td>45.315016</td>\n",
       "      <td>1.088594</td>\n",
       "      <td>0.364831</td>\n",
       "      <td>False</td>\n",
       "      <td>0</td>\n",
       "      <td>0.000000</td>\n",
       "      <td>0.000000</td>\n",
       "      <td>0.000000</td>\n",
       "      <td>...</td>\n",
       "      <td>-0.000409</td>\n",
       "      <td>0.007784</td>\n",
       "      <td>-0.000218</td>\n",
       "      <td>0.174103</td>\n",
       "      <td>0.006951</td>\n",
       "      <td>0.000300</td>\n",
       "      <td>0.000130</td>\n",
       "      <td>0.0</td>\n",
       "      <td>0.0</td>\n",
       "      <td>0.0</td>\n",
       "    </tr>\n",
       "    <tr>\n",
       "      <td>2</td>\n",
       "      <td>284500.0</td>\n",
       "      <td>2159562.0</td>\n",
       "      <td>163.244844</td>\n",
       "      <td>1.709549</td>\n",
       "      <td>2.769850</td>\n",
       "      <td>True</td>\n",
       "      <td>1</td>\n",
       "      <td>609.158691</td>\n",
       "      <td>239.010056</td>\n",
       "      <td>1741.357788</td>\n",
       "      <td>...</td>\n",
       "      <td>0.000000</td>\n",
       "      <td>0.000000</td>\n",
       "      <td>0.000000</td>\n",
       "      <td>0.000000</td>\n",
       "      <td>0.004981</td>\n",
       "      <td>-0.000061</td>\n",
       "      <td>0.000000</td>\n",
       "      <td>0.0</td>\n",
       "      <td>0.0</td>\n",
       "      <td>0.0</td>\n",
       "    </tr>\n",
       "    <tr>\n",
       "      <td>3</td>\n",
       "      <td>284500.0</td>\n",
       "      <td>2159562.0</td>\n",
       "      <td>147.121187</td>\n",
       "      <td>-0.237002</td>\n",
       "      <td>-0.393413</td>\n",
       "      <td>False</td>\n",
       "      <td>0</td>\n",
       "      <td>0.000000</td>\n",
       "      <td>0.000000</td>\n",
       "      <td>0.000000</td>\n",
       "      <td>...</td>\n",
       "      <td>-0.000283</td>\n",
       "      <td>0.000000</td>\n",
       "      <td>0.000000</td>\n",
       "      <td>0.000000</td>\n",
       "      <td>0.000000</td>\n",
       "      <td>0.000000</td>\n",
       "      <td>0.000000</td>\n",
       "      <td>0.0</td>\n",
       "      <td>0.0</td>\n",
       "      <td>0.0</td>\n",
       "    </tr>\n",
       "    <tr>\n",
       "      <td>4</td>\n",
       "      <td>284500.0</td>\n",
       "      <td>2159739.0</td>\n",
       "      <td>54.661199</td>\n",
       "      <td>-0.730161</td>\n",
       "      <td>-2.550338</td>\n",
       "      <td>False</td>\n",
       "      <td>0</td>\n",
       "      <td>0.000000</td>\n",
       "      <td>0.000000</td>\n",
       "      <td>0.000000</td>\n",
       "      <td>...</td>\n",
       "      <td>0.010581</td>\n",
       "      <td>0.000009</td>\n",
       "      <td>-0.000370</td>\n",
       "      <td>-0.002349</td>\n",
       "      <td>0.000000</td>\n",
       "      <td>0.000000</td>\n",
       "      <td>0.000000</td>\n",
       "      <td>0.0</td>\n",
       "      <td>0.0</td>\n",
       "      <td>0.0</td>\n",
       "    </tr>\n",
       "    <tr>\n",
       "      <td>...</td>\n",
       "      <td>...</td>\n",
       "      <td>...</td>\n",
       "      <td>...</td>\n",
       "      <td>...</td>\n",
       "      <td>...</td>\n",
       "      <td>...</td>\n",
       "      <td>...</td>\n",
       "      <td>...</td>\n",
       "      <td>...</td>\n",
       "      <td>...</td>\n",
       "      <td>...</td>\n",
       "      <td>...</td>\n",
       "      <td>...</td>\n",
       "      <td>...</td>\n",
       "      <td>...</td>\n",
       "      <td>...</td>\n",
       "      <td>...</td>\n",
       "      <td>...</td>\n",
       "      <td>...</td>\n",
       "      <td>...</td>\n",
       "      <td>...</td>\n",
       "    </tr>\n",
       "    <tr>\n",
       "      <td>22571</td>\n",
       "      <td>284500.0</td>\n",
       "      <td>2155029.0</td>\n",
       "      <td>76.296273</td>\n",
       "      <td>1.114254</td>\n",
       "      <td>-1.709045</td>\n",
       "      <td>True</td>\n",
       "      <td>1</td>\n",
       "      <td>259.214996</td>\n",
       "      <td>2172.912354</td>\n",
       "      <td>3113.421875</td>\n",
       "      <td>...</td>\n",
       "      <td>0.000097</td>\n",
       "      <td>0.003310</td>\n",
       "      <td>-0.000572</td>\n",
       "      <td>0.520124</td>\n",
       "      <td>0.112565</td>\n",
       "      <td>0.300919</td>\n",
       "      <td>0.028937</td>\n",
       "      <td>0.0</td>\n",
       "      <td>0.0</td>\n",
       "      <td>0.0</td>\n",
       "    </tr>\n",
       "    <tr>\n",
       "      <td>22572</td>\n",
       "      <td>284500.0</td>\n",
       "      <td>2041233.0</td>\n",
       "      <td>53.958059</td>\n",
       "      <td>0.729737</td>\n",
       "      <td>2.172977</td>\n",
       "      <td>True</td>\n",
       "      <td>1</td>\n",
       "      <td>499.816559</td>\n",
       "      <td>714.238342</td>\n",
       "      <td>664.080627</td>\n",
       "      <td>...</td>\n",
       "      <td>0.035989</td>\n",
       "      <td>0.000156</td>\n",
       "      <td>0.000345</td>\n",
       "      <td>0.000000</td>\n",
       "      <td>0.000000</td>\n",
       "      <td>0.000000</td>\n",
       "      <td>0.000000</td>\n",
       "      <td>0.0</td>\n",
       "      <td>0.0</td>\n",
       "      <td>0.0</td>\n",
       "    </tr>\n",
       "    <tr>\n",
       "      <td>22573</td>\n",
       "      <td>284500.0</td>\n",
       "      <td>2041233.0</td>\n",
       "      <td>44.355902</td>\n",
       "      <td>-1.914020</td>\n",
       "      <td>-1.443047</td>\n",
       "      <td>False</td>\n",
       "      <td>0</td>\n",
       "      <td>0.000000</td>\n",
       "      <td>0.000000</td>\n",
       "      <td>0.000000</td>\n",
       "      <td>...</td>\n",
       "      <td>0.000000</td>\n",
       "      <td>0.000000</td>\n",
       "      <td>0.000000</td>\n",
       "      <td>0.000000</td>\n",
       "      <td>0.000000</td>\n",
       "      <td>0.000000</td>\n",
       "      <td>0.000000</td>\n",
       "      <td>0.0</td>\n",
       "      <td>0.0</td>\n",
       "      <td>0.0</td>\n",
       "    </tr>\n",
       "    <tr>\n",
       "      <td>22574</td>\n",
       "      <td>284500.0</td>\n",
       "      <td>2159386.0</td>\n",
       "      <td>55.199289</td>\n",
       "      <td>-1.183146</td>\n",
       "      <td>-2.402029</td>\n",
       "      <td>True</td>\n",
       "      <td>1</td>\n",
       "      <td>2205.466064</td>\n",
       "      <td>1874.168701</td>\n",
       "      <td>4298.028320</td>\n",
       "      <td>...</td>\n",
       "      <td>0.000000</td>\n",
       "      <td>-0.000574</td>\n",
       "      <td>-0.000246</td>\n",
       "      <td>0.000000</td>\n",
       "      <td>0.000208</td>\n",
       "      <td>0.230129</td>\n",
       "      <td>0.644265</td>\n",
       "      <td>0.0</td>\n",
       "      <td>0.0</td>\n",
       "      <td>0.0</td>\n",
       "    </tr>\n",
       "    <tr>\n",
       "      <td>22575</td>\n",
       "      <td>284500.0</td>\n",
       "      <td>2159386.0</td>\n",
       "      <td>45.983867</td>\n",
       "      <td>-2.013459</td>\n",
       "      <td>0.338020</td>\n",
       "      <td>False</td>\n",
       "      <td>0</td>\n",
       "      <td>0.000000</td>\n",
       "      <td>0.000000</td>\n",
       "      <td>0.000000</td>\n",
       "      <td>...</td>\n",
       "      <td>0.000000</td>\n",
       "      <td>0.000000</td>\n",
       "      <td>0.000000</td>\n",
       "      <td>0.000000</td>\n",
       "      <td>0.000000</td>\n",
       "      <td>0.000000</td>\n",
       "      <td>0.000000</td>\n",
       "      <td>0.0</td>\n",
       "      <td>0.0</td>\n",
       "      <td>0.0</td>\n",
       "    </tr>\n",
       "  </tbody>\n",
       "</table>\n",
       "<p>22576 rows × 36 columns</p>\n",
       "</div>"
      ],
      "text/plain": [
       "       RunNumber  EventNumber       JetPt    JetEta    JetPhi  IsLLP  \\\n",
       "entry                                                                  \n",
       "0       284500.0    2041602.0   50.151355  1.767030  0.074290   True   \n",
       "1       284500.0    2041537.0   45.315016  1.088594  0.364831  False   \n",
       "2       284500.0    2159562.0  163.244844  1.709549  2.769850   True   \n",
       "3       284500.0    2159562.0  147.121187 -0.237002 -0.393413  False   \n",
       "4       284500.0    2159739.0   54.661199 -0.730161 -2.550338  False   \n",
       "...          ...          ...         ...       ...       ...    ...   \n",
       "22571   284500.0    2155029.0   76.296273  1.114254 -1.709045   True   \n",
       "22572   284500.0    2041233.0   53.958059  0.729737  2.172977   True   \n",
       "22573   284500.0    2041233.0   44.355902 -1.914020 -1.443047  False   \n",
       "22574   284500.0    2159386.0   55.199289 -1.183146 -2.402029   True   \n",
       "22575   284500.0    2159386.0   45.983867 -2.013459  0.338020  False   \n",
       "\n",
       "       nLLPs_Near_Jets           Lx           Ly           Lz  ...   EH_CVL2  \\\n",
       "entry                                                          ...             \n",
       "0                    1  1851.684326   178.223892  5354.035156  ...  0.000000   \n",
       "1                    0     0.000000     0.000000     0.000000  ... -0.000409   \n",
       "2                    1   609.158691   239.010056  1741.357788  ...  0.000000   \n",
       "3                    0     0.000000     0.000000     0.000000  ... -0.000283   \n",
       "4                    0     0.000000     0.000000     0.000000  ...  0.010581   \n",
       "...                ...          ...          ...          ...  ...       ...   \n",
       "22571                1   259.214996  2172.912354  3113.421875  ...  0.000097   \n",
       "22572                1   499.816559   714.238342   664.080627  ...  0.035989   \n",
       "22573                0     0.000000     0.000000     0.000000  ...  0.000000   \n",
       "22574                1  2205.466064  1874.168701  4298.028320  ...  0.000000   \n",
       "22575                0     0.000000     0.000000     0.000000  ...  0.000000   \n",
       "\n",
       "        EH_TGL0   EH_TGL1   EH_TGL2   EH_EBL0   EH_EBL1   EH_EBL2  FC_L0  \\\n",
       "entry                                                                      \n",
       "0      0.000000  0.000000  0.000000  0.019344  0.000731  0.000000    0.0   \n",
       "1      0.007784 -0.000218  0.174103  0.006951  0.000300  0.000130    0.0   \n",
       "2      0.000000  0.000000  0.000000  0.004981 -0.000061  0.000000    0.0   \n",
       "3      0.000000  0.000000  0.000000  0.000000  0.000000  0.000000    0.0   \n",
       "4      0.000009 -0.000370 -0.002349  0.000000  0.000000  0.000000    0.0   \n",
       "...         ...       ...       ...       ...       ...       ...    ...   \n",
       "22571  0.003310 -0.000572  0.520124  0.112565  0.300919  0.028937    0.0   \n",
       "22572  0.000156  0.000345  0.000000  0.000000  0.000000  0.000000    0.0   \n",
       "22573  0.000000  0.000000  0.000000  0.000000  0.000000  0.000000    0.0   \n",
       "22574 -0.000574 -0.000246  0.000000  0.000208  0.230129  0.644265    0.0   \n",
       "22575  0.000000  0.000000  0.000000  0.000000  0.000000  0.000000    0.0   \n",
       "\n",
       "       FC_L1  FC_L2  \n",
       "entry                \n",
       "0        0.0    0.0  \n",
       "1        0.0    0.0  \n",
       "2        0.0    0.0  \n",
       "3        0.0    0.0  \n",
       "4        0.0    0.0  \n",
       "...      ...    ...  \n",
       "22571    0.0    0.0  \n",
       "22572    0.0    0.0  \n",
       "22573    0.0    0.0  \n",
       "22574    0.0    0.0  \n",
       "22575    0.0    0.0  \n",
       "\n",
       "[22576 rows x 36 columns]"
      ]
     },
     "execution_count": 4,
     "metadata": {},
     "output_type": "execute_result"
    }
   ],
   "source": [
    "#Q2\n",
    "file = open(\"./llpdata/df_1.root\")\n",
    "#Transfer data to pandas dataframe\n",
    "tree1 = file[\"pandas_tree218\"].pandas.df()\n",
    "file.close()\n",
    "tree1"
   ]
  },
  {
   "cell_type": "code",
   "execution_count": 5,
   "metadata": {},
   "outputs": [],
   "source": [
    "# Pt -- momentum of particles in 3D space\n",
    "# Eta -- pseudorapidity, is a commonly used spatial coordinate describing the angle of a particle relative to the beam \n",
    "#        axis\n",
    "# Phi -- an angular coordinate of another beam axis which is perpendicular to the axis of Eta\n",
    "# LLP -- the particles can keep itself in a time period without immediately decay\n",
    "# L(x, y, z) -- the distance of a particle travel before decay in 3D space"
   ]
  },
  {
   "cell_type": "code",
   "execution_count": 6,
   "metadata": {},
   "outputs": [
    {
     "data": {
      "text/plain": [
       "(0, 400)"
      ]
     },
     "execution_count": 6,
     "metadata": {},
     "output_type": "execute_result"
    },
    {
     "data": {
      "image/png": "[encoded data removed]",
      "text/plain": [
       "<Figure size 432x288 with 1 Axes>"
      ]
     },
     "metadata": {
      "needs_background": "light"
     },
     "output_type": "display_data"
    }
   ],
   "source": [
    "#Q3\n",
    "data = tree1[\"JetPt\"]\n",
    "make_hist(data, \"JetPt histogram\", \"Pt\", \"Counts\", 100)\n",
    "plt.xlim(0, 400)"
   ]
  },
  {
   "cell_type": "code",
   "execution_count": 7,
   "metadata": {},
   "outputs": [
    {
     "data": {
      "image/png": "[encoded data removed]",
      "text/plain": [
       "<Figure size 432x288 with 1 Axes>"
      ]
     },
     "metadata": {
      "needs_background": "light"
     },
     "output_type": "display_data"
    }
   ],
   "source": [
    "data = tree1[\"JetEta\"]\n",
    "make_hist(data, \"JetEta histogram\", \"Eta\", \"Counts\", 20)"
   ]
  },
  {
   "cell_type": "code",
   "execution_count": 8,
   "metadata": {},
   "outputs": [
    {
     "data": {
      "image/png": "[encoded data removed]",
      "text/plain": [
       "<Figure size 432x288 with 1 Axes>"
      ]
     },
     "metadata": {
      "needs_background": "light"
     },
     "output_type": "display_data"
    }
   ],
   "source": [
    "data = tree1[\"JetPhi\"]\n",
    "make_hist(data, \"JetPhi histogram\", \"Phi\", \"Counts\", 15)"
   ]
  },
  {
   "cell_type": "code",
   "execution_count": 9,
   "metadata": {},
   "outputs": [
    {
     "data": {
      "text/plain": [
       "(0, 4000)"
      ]
     },
     "execution_count": 9,
     "metadata": {},
     "output_type": "execute_result"
    },
    {
     "data": {
      "image/png": "[encoded data removed]",
      "text/plain": [
       "<Figure size 432x288 with 1 Axes>"
      ]
     },
     "metadata": {
      "needs_background": "light"
     },
     "output_type": "display_data"
    }
   ],
   "source": [
    "data = tree1[\"Lx\"]\n",
    "make_hist(data, \"Lx histogram\", \"Lx\", \"Counts\", 50)\n",
    "plt.xlim(0, 4000)"
   ]
  },
  {
   "cell_type": "code",
   "execution_count": 10,
   "metadata": {},
   "outputs": [
    {
     "data": {
      "text/plain": [
       "(0, 4000)"
      ]
     },
     "execution_count": 10,
     "metadata": {},
     "output_type": "execute_result"
    },
    {
     "data": {
      "image/png": "[encoded data removed]",
      "text/plain": [
       "<Figure size 432x288 with 1 Axes>"
      ]
     },
     "metadata": {
      "needs_background": "light"
     },
     "output_type": "display_data"
    }
   ],
   "source": [
    "data = tree1[\"Ly\"]\n",
    "make_hist(data, \"Ly histogram\", \"Ly\", \"Counts\", 50)\n",
    "plt.xlim(0, 4000)"
   ]
  },
  {
   "cell_type": "code",
   "execution_count": 11,
   "metadata": {},
   "outputs": [
    {
     "data": {
      "text/plain": [
       "(0, 6000)"
      ]
     },
     "execution_count": 11,
     "metadata": {},
     "output_type": "execute_result"
    },
    {
     "data": {
      "image/png": "[encoded data removed]",
      "text/plain": [
       "<Figure size 432x288 with 1 Axes>"
      ]
     },
     "metadata": {
      "needs_background": "light"
     },
     "output_type": "display_data"
    }
   ],
   "source": [
    "data = tree1[\"Lz\"]\n",
    "make_hist(data, \"Lz histogram\", \"Lz\", \"Counts\", 50)\n",
    "plt.xlim(0, 6000)"
   ]
  },
  {
   "cell_type": "code",
   "execution_count": 12,
   "metadata": {},
   "outputs": [
    {
     "data": {
      "image/png": "[encoded data removed]",
      "text/plain": [
       "<Figure size 432x288 with 1 Axes>"
      ]
     },
     "metadata": {
      "needs_background": "light"
     },
     "output_type": "display_data"
    }
   ],
   "source": [
    "data = tree1[\"IsLLP\"]\n",
    "make_hist(data.astype(float), \"IsLLP histogram\", \"IsLLP\", \"Counts\", None)"
   ]
  },
  {
   "cell_type": "code",
   "execution_count": 13,
   "metadata": {},
   "outputs": [],
   "source": [
    "#Square given number\n",
    "def sq(element):\n",
    "    return element ** 2"
   ]
  },
  {
   "cell_type": "code",
   "execution_count": 14,
   "metadata": {},
   "outputs": [],
   "source": [
    "#Square root given number\n",
    "def sqr(element):\n",
    "    return element ** 0.5"
   ]
  },
  {
   "cell_type": "code",
   "execution_count": 15,
   "metadata": {},
   "outputs": [
    {
     "data": {
      "text/plain": [
       "(0, 2000)"
      ]
     },
     "execution_count": 15,
     "metadata": {},
     "output_type": "execute_result"
    },
    {
     "data": {
      "image/png": "[encoded data removed]",
      "text/plain": [
       "<Figure size 432x288 with 1 Axes>"
      ]
     },
     "metadata": {
      "needs_background": "light"
     },
     "output_type": "display_data"
    }
   ],
   "source": [
    "Lx_2 = [sq(x) for x in tree1['Lx']]\n",
    "Ly_2 = [sq(x) for x in tree1['Ly']]\n",
    "Lz_2 = [sq(x) for x in tree1['Lz']]\n",
    "\n",
    "Lxy = [sqr(x) for x in [Lx_2[i]+Ly_2[i] for i in range(len(Lx_2))]]\n",
    "\n",
    "make_hist(Lxy, \"Lxy histogram\", \"Lxy\", \"Counts\", 500)\n",
    "plt.xlim(0, 5000)\n",
    "plt.xlim(0, 2000)"
   ]
  },
  {
   "cell_type": "code",
   "execution_count": 16,
   "metadata": {},
   "outputs": [
    {
     "data": {
      "text/plain": [
       "(0, 2000)"
      ]
     },
     "execution_count": 16,
     "metadata": {},
     "output_type": "execute_result"
    },
    {
     "data": {
      "image/png": "[encoded data removed]",
      "text/plain": [
       "<Figure size 432x288 with 1 Axes>"
      ]
     },
     "metadata": {
      "needs_background": "light"
     },
     "output_type": "display_data"
    }
   ],
   "source": [
    "L_3D = [sqr(x) for x in [Lx_2[i]+Ly_2[i]+Lz_2[i] for i in range(len(Lx_2))]]\n",
    "\n",
    "make_hist(L_3D, \"L3d histogram\", \"L3d\", \"Counts\", 500)\n",
    "plt.xlim(0, 5000)\n",
    "plt.xlim(0, 2000)"
   ]
  },
  {
   "cell_type": "code",
   "execution_count": 17,
   "metadata": {},
   "outputs": [],
   "source": [
    "#Q4\n",
    "#import all data sets\n",
    "file = open(\"./llpdata/df_2.root\")\n",
    "tree2 = file[\"pandas_tree51358\"].pandas.df()\n",
    "file.close()\n",
    "\n",
    "file = open(\"./llpdata/df_3.root\")\n",
    "tree3 = file[\"pandas_tree53278\"].pandas.df()\n",
    "file.close()\n",
    "\n",
    "file = open(\"./llpdata/df_4.root\")\n",
    "tree4 = file[\"pandas_tree52558\"].pandas.df()\n",
    "file.close()\n",
    "\n",
    "file = open(\"./llpdata/df_5.root\")\n",
    "tree5 = file[\"pandas_tree53038\"].pandas.df()\n",
    "file.close()\n",
    "\n",
    "file = open(\"./llpdata/df_6.root\")\n",
    "tree6 = file[\"pandas_tree54718\"].pandas.df()\n",
    "file.close()"
   ]
  },
  {
   "cell_type": "code",
   "execution_count": 18,
   "metadata": {},
   "outputs": [
    {
     "data": {
      "text/html": [
       "<div>\n",
       "<style scoped>\n",
       "    .dataframe tbody tr th:only-of-type {\n",
       "        vertical-align: middle;\n",
       "    }\n",
       "\n",
       "    .dataframe tbody tr th {\n",
       "        vertical-align: top;\n",
       "    }\n",
       "\n",
       "    .dataframe thead th {\n",
       "        text-align: right;\n",
       "    }\n",
       "</style>\n",
       "<table border=\"1\" class=\"dataframe\">\n",
       "  <thead>\n",
       "    <tr style=\"text-align: right;\">\n",
       "      <th></th>\n",
       "      <th>entry</th>\n",
       "      <th>RunNumber</th>\n",
       "      <th>EventNumber</th>\n",
       "      <th>JetPt</th>\n",
       "      <th>JetEta</th>\n",
       "      <th>JetPhi</th>\n",
       "      <th>IsLLP</th>\n",
       "      <th>nLLPs_Near_Jets</th>\n",
       "      <th>Lx</th>\n",
       "      <th>Ly</th>\n",
       "      <th>...</th>\n",
       "      <th>EH_TGL1</th>\n",
       "      <th>EH_TGL2</th>\n",
       "      <th>EH_EBL0</th>\n",
       "      <th>EH_EBL1</th>\n",
       "      <th>EH_EBL2</th>\n",
       "      <th>FC_L0</th>\n",
       "      <th>FC_L1</th>\n",
       "      <th>FC_L2</th>\n",
       "      <th>Lpt</th>\n",
       "      <th>Lpz</th>\n",
       "    </tr>\n",
       "  </thead>\n",
       "  <tbody>\n",
       "    <tr>\n",
       "      <td>data1</td>\n",
       "      <td>0</td>\n",
       "      <td>284500.0</td>\n",
       "      <td>2041602.0</td>\n",
       "      <td>50.151355</td>\n",
       "      <td>1.767030</td>\n",
       "      <td>0.074290</td>\n",
       "      <td>True</td>\n",
       "      <td>1</td>\n",
       "      <td>1851.684326</td>\n",
       "      <td>178.223892</td>\n",
       "      <td>...</td>\n",
       "      <td>0.000000</td>\n",
       "      <td>0.000000</td>\n",
       "      <td>0.019344</td>\n",
       "      <td>0.000731</td>\n",
       "      <td>0.00000</td>\n",
       "      <td>0.0</td>\n",
       "      <td>0.0</td>\n",
       "      <td>0.0</td>\n",
       "      <td>NaN</td>\n",
       "      <td>NaN</td>\n",
       "    </tr>\n",
       "    <tr>\n",
       "      <td>data1</td>\n",
       "      <td>1</td>\n",
       "      <td>284500.0</td>\n",
       "      <td>2041537.0</td>\n",
       "      <td>45.315016</td>\n",
       "      <td>1.088594</td>\n",
       "      <td>0.364831</td>\n",
       "      <td>False</td>\n",
       "      <td>0</td>\n",
       "      <td>0.000000</td>\n",
       "      <td>0.000000</td>\n",
       "      <td>...</td>\n",
       "      <td>-0.000218</td>\n",
       "      <td>0.174103</td>\n",
       "      <td>0.006951</td>\n",
       "      <td>0.000300</td>\n",
       "      <td>0.00013</td>\n",
       "      <td>0.0</td>\n",
       "      <td>0.0</td>\n",
       "      <td>0.0</td>\n",
       "      <td>NaN</td>\n",
       "      <td>NaN</td>\n",
       "    </tr>\n",
       "    <tr>\n",
       "      <td>data1</td>\n",
       "      <td>2</td>\n",
       "      <td>284500.0</td>\n",
       "      <td>2159562.0</td>\n",
       "      <td>163.244844</td>\n",
       "      <td>1.709549</td>\n",
       "      <td>2.769850</td>\n",
       "      <td>True</td>\n",
       "      <td>1</td>\n",
       "      <td>609.158691</td>\n",
       "      <td>239.010056</td>\n",
       "      <td>...</td>\n",
       "      <td>0.000000</td>\n",
       "      <td>0.000000</td>\n",
       "      <td>0.004981</td>\n",
       "      <td>-0.000061</td>\n",
       "      <td>0.00000</td>\n",
       "      <td>0.0</td>\n",
       "      <td>0.0</td>\n",
       "      <td>0.0</td>\n",
       "      <td>NaN</td>\n",
       "      <td>NaN</td>\n",
       "    </tr>\n",
       "    <tr>\n",
       "      <td>data1</td>\n",
       "      <td>3</td>\n",
       "      <td>284500.0</td>\n",
       "      <td>2159562.0</td>\n",
       "      <td>147.121187</td>\n",
       "      <td>-0.237002</td>\n",
       "      <td>-0.393413</td>\n",
       "      <td>False</td>\n",
       "      <td>0</td>\n",
       "      <td>0.000000</td>\n",
       "      <td>0.000000</td>\n",
       "      <td>...</td>\n",
       "      <td>0.000000</td>\n",
       "      <td>0.000000</td>\n",
       "      <td>0.000000</td>\n",
       "      <td>0.000000</td>\n",
       "      <td>0.00000</td>\n",
       "      <td>0.0</td>\n",
       "      <td>0.0</td>\n",
       "      <td>0.0</td>\n",
       "      <td>NaN</td>\n",
       "      <td>NaN</td>\n",
       "    </tr>\n",
       "    <tr>\n",
       "      <td>data1</td>\n",
       "      <td>4</td>\n",
       "      <td>284500.0</td>\n",
       "      <td>2159739.0</td>\n",
       "      <td>54.661199</td>\n",
       "      <td>-0.730161</td>\n",
       "      <td>-2.550338</td>\n",
       "      <td>False</td>\n",
       "      <td>0</td>\n",
       "      <td>0.000000</td>\n",
       "      <td>0.000000</td>\n",
       "      <td>...</td>\n",
       "      <td>-0.000370</td>\n",
       "      <td>-0.002349</td>\n",
       "      <td>0.000000</td>\n",
       "      <td>0.000000</td>\n",
       "      <td>0.00000</td>\n",
       "      <td>0.0</td>\n",
       "      <td>0.0</td>\n",
       "      <td>0.0</td>\n",
       "      <td>NaN</td>\n",
       "      <td>NaN</td>\n",
       "    </tr>\n",
       "    <tr>\n",
       "      <td>...</td>\n",
       "      <td>...</td>\n",
       "      <td>...</td>\n",
       "      <td>...</td>\n",
       "      <td>...</td>\n",
       "      <td>...</td>\n",
       "      <td>...</td>\n",
       "      <td>...</td>\n",
       "      <td>...</td>\n",
       "      <td>...</td>\n",
       "      <td>...</td>\n",
       "      <td>...</td>\n",
       "      <td>...</td>\n",
       "      <td>...</td>\n",
       "      <td>...</td>\n",
       "      <td>...</td>\n",
       "      <td>...</td>\n",
       "      <td>...</td>\n",
       "      <td>...</td>\n",
       "      <td>...</td>\n",
       "      <td>...</td>\n",
       "      <td>...</td>\n",
       "    </tr>\n",
       "    <tr>\n",
       "      <td>data6</td>\n",
       "      <td>1695822</td>\n",
       "      <td>310000.0</td>\n",
       "      <td>2628963.0</td>\n",
       "      <td>216.514703</td>\n",
       "      <td>0.155385</td>\n",
       "      <td>2.572538</td>\n",
       "      <td>True</td>\n",
       "      <td>1</td>\n",
       "      <td>2221.168945</td>\n",
       "      <td>1310.453613</td>\n",
       "      <td>...</td>\n",
       "      <td>0.000000</td>\n",
       "      <td>0.000000</td>\n",
       "      <td>0.000000</td>\n",
       "      <td>0.000000</td>\n",
       "      <td>0.00000</td>\n",
       "      <td>0.0</td>\n",
       "      <td>0.0</td>\n",
       "      <td>0.0</td>\n",
       "      <td>145729.990106</td>\n",
       "      <td>25084.673828</td>\n",
       "    </tr>\n",
       "    <tr>\n",
       "      <td>data6</td>\n",
       "      <td>1695823</td>\n",
       "      <td>310000.0</td>\n",
       "      <td>2628963.0</td>\n",
       "      <td>100.025234</td>\n",
       "      <td>0.468585</td>\n",
       "      <td>0.328753</td>\n",
       "      <td>False</td>\n",
       "      <td>0</td>\n",
       "      <td>0.000000</td>\n",
       "      <td>0.000000</td>\n",
       "      <td>...</td>\n",
       "      <td>0.000000</td>\n",
       "      <td>0.000000</td>\n",
       "      <td>0.000000</td>\n",
       "      <td>0.000000</td>\n",
       "      <td>0.00000</td>\n",
       "      <td>0.0</td>\n",
       "      <td>0.0</td>\n",
       "      <td>0.0</td>\n",
       "      <td>0.000000</td>\n",
       "      <td>0.000000</td>\n",
       "    </tr>\n",
       "    <tr>\n",
       "      <td>data6</td>\n",
       "      <td>1695824</td>\n",
       "      <td>310000.0</td>\n",
       "      <td>2628963.0</td>\n",
       "      <td>88.622664</td>\n",
       "      <td>1.336524</td>\n",
       "      <td>-0.449329</td>\n",
       "      <td>False</td>\n",
       "      <td>0</td>\n",
       "      <td>0.000000</td>\n",
       "      <td>0.000000</td>\n",
       "      <td>...</td>\n",
       "      <td>0.000000</td>\n",
       "      <td>0.045422</td>\n",
       "      <td>0.104669</td>\n",
       "      <td>0.001416</td>\n",
       "      <td>0.00000</td>\n",
       "      <td>0.0</td>\n",
       "      <td>0.0</td>\n",
       "      <td>0.0</td>\n",
       "      <td>0.000000</td>\n",
       "      <td>0.000000</td>\n",
       "    </tr>\n",
       "    <tr>\n",
       "      <td>data6</td>\n",
       "      <td>1695825</td>\n",
       "      <td>310000.0</td>\n",
       "      <td>2628963.0</td>\n",
       "      <td>79.377008</td>\n",
       "      <td>0.741856</td>\n",
       "      <td>-0.320374</td>\n",
       "      <td>False</td>\n",
       "      <td>0</td>\n",
       "      <td>0.000000</td>\n",
       "      <td>0.000000</td>\n",
       "      <td>...</td>\n",
       "      <td>0.000000</td>\n",
       "      <td>0.000000</td>\n",
       "      <td>0.000000</td>\n",
       "      <td>0.000000</td>\n",
       "      <td>0.00000</td>\n",
       "      <td>0.0</td>\n",
       "      <td>0.0</td>\n",
       "      <td>0.0</td>\n",
       "      <td>0.000000</td>\n",
       "      <td>0.000000</td>\n",
       "    </tr>\n",
       "    <tr>\n",
       "      <td>data6</td>\n",
       "      <td>1695826</td>\n",
       "      <td>310000.0</td>\n",
       "      <td>2628963.0</td>\n",
       "      <td>63.754262</td>\n",
       "      <td>1.006141</td>\n",
       "      <td>-2.172019</td>\n",
       "      <td>False</td>\n",
       "      <td>0</td>\n",
       "      <td>0.000000</td>\n",
       "      <td>0.000000</td>\n",
       "      <td>...</td>\n",
       "      <td>0.000000</td>\n",
       "      <td>0.000000</td>\n",
       "      <td>0.000000</td>\n",
       "      <td>0.000000</td>\n",
       "      <td>0.00000</td>\n",
       "      <td>0.0</td>\n",
       "      <td>0.0</td>\n",
       "      <td>0.0</td>\n",
       "      <td>0.000000</td>\n",
       "      <td>0.000000</td>\n",
       "    </tr>\n",
       "  </tbody>\n",
       "</table>\n",
       "<p>3448258 rows × 39 columns</p>\n",
       "</div>"
      ],
      "text/plain": [
       "         entry  RunNumber  EventNumber       JetPt    JetEta    JetPhi  IsLLP  \\\n",
       "data1        0   284500.0    2041602.0   50.151355  1.767030  0.074290   True   \n",
       "data1        1   284500.0    2041537.0   45.315016  1.088594  0.364831  False   \n",
       "data1        2   284500.0    2159562.0  163.244844  1.709549  2.769850   True   \n",
       "data1        3   284500.0    2159562.0  147.121187 -0.237002 -0.393413  False   \n",
       "data1        4   284500.0    2159739.0   54.661199 -0.730161 -2.550338  False   \n",
       "...        ...        ...          ...         ...       ...       ...    ...   \n",
       "data6  1695822   310000.0    2628963.0  216.514703  0.155385  2.572538   True   \n",
       "data6  1695823   310000.0    2628963.0  100.025234  0.468585  0.328753  False   \n",
       "data6  1695824   310000.0    2628963.0   88.622664  1.336524 -0.449329  False   \n",
       "data6  1695825   310000.0    2628963.0   79.377008  0.741856 -0.320374  False   \n",
       "data6  1695826   310000.0    2628963.0   63.754262  1.006141 -2.172019  False   \n",
       "\n",
       "       nLLPs_Near_Jets           Lx           Ly  ...   EH_TGL1   EH_TGL2  \\\n",
       "data1                1  1851.684326   178.223892  ...  0.000000  0.000000   \n",
       "data1                0     0.000000     0.000000  ... -0.000218  0.174103   \n",
       "data1                1   609.158691   239.010056  ...  0.000000  0.000000   \n",
       "data1                0     0.000000     0.000000  ...  0.000000  0.000000   \n",
       "data1                0     0.000000     0.000000  ... -0.000370 -0.002349   \n",
       "...                ...          ...          ...  ...       ...       ...   \n",
       "data6                1  2221.168945  1310.453613  ...  0.000000  0.000000   \n",
       "data6                0     0.000000     0.000000  ...  0.000000  0.000000   \n",
       "data6                0     0.000000     0.000000  ...  0.000000  0.045422   \n",
       "data6                0     0.000000     0.000000  ...  0.000000  0.000000   \n",
       "data6                0     0.000000     0.000000  ...  0.000000  0.000000   \n",
       "\n",
       "        EH_EBL0   EH_EBL1  EH_EBL2  FC_L0  FC_L1  FC_L2            Lpt  \\\n",
       "data1  0.019344  0.000731  0.00000    0.0    0.0    0.0            NaN   \n",
       "data1  0.006951  0.000300  0.00013    0.0    0.0    0.0            NaN   \n",
       "data1  0.004981 -0.000061  0.00000    0.0    0.0    0.0            NaN   \n",
       "data1  0.000000  0.000000  0.00000    0.0    0.0    0.0            NaN   \n",
       "data1  0.000000  0.000000  0.00000    0.0    0.0    0.0            NaN   \n",
       "...         ...       ...      ...    ...    ...    ...            ...   \n",
       "data6  0.000000  0.000000  0.00000    0.0    0.0    0.0  145729.990106   \n",
       "data6  0.000000  0.000000  0.00000    0.0    0.0    0.0       0.000000   \n",
       "data6  0.104669  0.001416  0.00000    0.0    0.0    0.0       0.000000   \n",
       "data6  0.000000  0.000000  0.00000    0.0    0.0    0.0       0.000000   \n",
       "data6  0.000000  0.000000  0.00000    0.0    0.0    0.0       0.000000   \n",
       "\n",
       "                Lpz  \n",
       "data1           NaN  \n",
       "data1           NaN  \n",
       "data1           NaN  \n",
       "data1           NaN  \n",
       "data1           NaN  \n",
       "...             ...  \n",
       "data6  25084.673828  \n",
       "data6      0.000000  \n",
       "data6      0.000000  \n",
       "data6      0.000000  \n",
       "data6      0.000000  \n",
       "\n",
       "[3448258 rows x 39 columns]"
      ]
     },
     "execution_count": 18,
     "metadata": {},
     "output_type": "execute_result"
    }
   ],
   "source": [
    "#Combine all data with a new index instead of entry\n",
    "import pandas as pd\n",
    "\n",
    "frames = [tree1, tree2, tree3, tree4, tree5, tree6]\n",
    "comb_tree = pd.concat(frames, sort=False, keys=['data1', 'data2', 'data3', 'data4', 'data5', 'data6'])\n",
    "comb_tree = comb_tree.reset_index(level=['entry'])\n",
    "comb_tree"
   ]
  },
  {
   "cell_type": "code",
   "execution_count": 40,
   "metadata": {},
   "outputs": [],
   "source": [
    "#Make a seaborn violin plot\n",
    "import seaborn as sns\n",
    "def make_violin(data_set, x_value, y_value, y_lim, seq):\n",
    "    ax = sns.violinplot(x=x_value, y=y_value, data=data_set, order=seq)\n",
    "    if (y_lim != None):\n",
    "        ax.set(ylim=(0, y_lim))"
   ]
  },
  {
   "cell_type": "code",
   "execution_count": 37,
   "metadata": {},
   "outputs": [
    {
     "data": {
      "image/png": "[encoded data removed]",
      "text/plain": [
       "<Figure size 432x288 with 1 Axes>"
      ]
     },
     "metadata": {
      "needs_background": "light"
     },
     "output_type": "display_data"
    }
   ],
   "source": [
    "#Q5\n",
    "make_violin(data_set=comb_tree, x_value=comb_tree.index, y_value=\"JetPt\", y_lim=400, seq=None)"
   ]
  },
  {
   "cell_type": "code",
   "execution_count": 21,
   "metadata": {},
   "outputs": [],
   "source": [
    "#Q6\n",
    "Lx_2 = [sq(x) for x in comb_tree['Lx']]\n",
    "Ly_2 = [sq(x) for x in comb_tree['Ly']]\n",
    "Lz_2 = [sq(x) for x in comb_tree['Lz']]"
   ]
  },
  {
   "cell_type": "code",
   "execution_count": 22,
   "metadata": {},
   "outputs": [
    {
     "data": {
      "image/png": "[encoded data removed]",
      "text/plain": [
       "<Figure size 432x288 with 1 Axes>"
      ]
     },
     "metadata": {
      "needs_background": "light"
     },
     "output_type": "display_data"
    }
   ],
   "source": [
    "from operator import add\n",
    "import numpy as np\n",
    "Lxy = np.sqrt(list(map(add, Lx_2, Ly_2)))\n",
    "comb_tree['Lxy'] = Lxy\n",
    "make_violin(data_set=comb_tree, x_value=comb_tree.index, y_value=\"Lxy\", y_lim=5000, seq=None)"
   ]
  },
  {
   "cell_type": "code",
   "execution_count": 23,
   "metadata": {},
   "outputs": [
    {
     "data": {
      "image/png": "[encoded data removed]",
      "text/plain": [
       "<Figure size 432x288 with 1 Axes>"
      ]
     },
     "metadata": {
      "needs_background": "light"
     },
     "output_type": "display_data"
    }
   ],
   "source": [
    "L_3D = [sqr(x) for x in [Lx_2[i]+Ly_2[i]+Lz_2[i] for i in range(len(Lx_2))]]\n",
    "comb_tree['L3d'] = L_3D\n",
    "make_violin(data_set=comb_tree, x_value=comb_tree.index, y_value=\"L3d\", y_lim=7500, seq=None)"
   ]
  },
  {
   "cell_type": "code",
   "execution_count": 24,
   "metadata": {},
   "outputs": [],
   "source": [
    "#Make a seaborn violin plot with split indicator\n",
    "import seaborn as sns\n",
    "def make_violin_sp(data_set, x_value, y_value, y_lim, hue_value):\n",
    "    ax = sns.violinplot(x=x_value, y=y_value, data=data_set, hue=hue_value, palette=\"muted\", split=True)\n",
    "    if (y_lim != None):\n",
    "        ax.set(ylim=(0, y_lim))"
   ]
  },
  {
   "cell_type": "code",
   "execution_count": 25,
   "metadata": {},
   "outputs": [
    {
     "data": {
      "image/png": "[encoded data removed]",
      "text/plain": [
       "<Figure size 432x288 with 1 Axes>"
      ]
     },
     "metadata": {
      "needs_background": "light"
     },
     "output_type": "display_data"
    }
   ],
   "source": [
    "#Q7\n",
    "make_violin_sp(data_set=comb_tree, x_value=comb_tree.index, y_value=\"JetPt\", y_lim=600, hue_value=\"IsLLP\")"
   ]
  },
  {
   "cell_type": "code",
   "execution_count": 27,
   "metadata": {},
   "outputs": [],
   "source": [
    "#Q8\n",
    "#Find the value to distinguish low, medium or high pt\n",
    "pt = comb_tree[\"JetPt\"]\n",
    "pt_sort = np.sort(pt)\n",
    "length= int(len(pt_sort)/3)\n",
    "dividing1 = pt_sort[length-1]\n",
    "dividing2 = pt_sort[2*length-1]"
   ]
  },
  {
   "cell_type": "code",
   "execution_count": 28,
   "metadata": {},
   "outputs": [],
   "source": [
    "#label low, medium and high pt\n",
    "pt_range = []\n",
    "\n",
    "for x in pt:\n",
    "    if (x<dividing1):\n",
    "        pt_range.append(\"low\")\n",
    "    elif (x>=dividing1 and x<dividing2):\n",
    "        pt_range.append(\"medium\")\n",
    "    else:\n",
    "        pt_range.append(\"high\")\n",
    "        \n",
    "comb_tree['PtRange'] = pt_range"
   ]
  },
  {
   "cell_type": "code",
   "execution_count": 41,
   "metadata": {
    "scrolled": true
   },
   "outputs": [
    {
     "data": {
      "image/png": "[encoded data removed]",
      "text/plain": [
       "<Figure size 432x288 with 1 Axes>"
      ]
     },
     "metadata": {
      "needs_background": "light"
     },
     "output_type": "display_data"
    }
   ],
   "source": [
    "make_violin(data_set=comb_tree, x_value=comb_tree[\"PtRange\"], y_value=\"Lxy\", y_lim=1500, seq=[\"low\", \"medium\", \"high\"])"
   ]
  },
  {
   "cell_type": "code",
   "execution_count": 50,
   "metadata": {},
   "outputs": [],
   "source": [
    "#Test\n",
    "LLP = np.array(comb_tree[\"IsLLP\"])\n",
    "pt = np.array(comb_tree[\"JetPt\"])\n",
    "\n",
    "pt_LLP = []\n",
    "pt_nLLP = []\n",
    "\n",
    "for i in range(len(pt)):\n",
    "    if (LLP[i]):\n",
    "        pt_LLP.append(pt[i])\n",
    "    else:\n",
    "        pt_nLLP.append(pt[i])"
   ]
  },
  {
   "cell_type": "code",
   "execution_count": 53,
   "metadata": {},
   "outputs": [
    {
     "data": {
      "image/png": "[encoded data removed]",
      "text/plain": [
       "<Figure size 432x288 with 1 Axes>"
      ]
     },
     "metadata": {
      "needs_background": "light"
     },
     "output_type": "display_data"
    }
   ],
   "source": [
    "make_hist(pt_LLP, \"LLP Jet Pt\", \"pt\", \"counts\", 100)"
   ]
  },
  {
   "cell_type": "code",
   "execution_count": 54,
   "metadata": {},
   "outputs": [
    {
     "data": {
      "image/png": "[encoded data removed]",
      "text/plain": [
       "<Figure size 432x288 with 1 Axes>"
      ]
     },
     "metadata": {
      "needs_background": "light"
     },
     "output_type": "display_data"
    }
   ],
   "source": [
    "make_hist(pt_nLLP, \"Not LLP Jet Pt\", \"pt\", \"counts\", 100)"
   ]
  }
 ],
 "metadata": {
  "kernelspec": {
   "display_name": "Python 3",
   "language": "python",
   "name": "python3"
  },
  "language_info": {
   "codemirror_mode": {
    "name": "ipython",
    "version": 3
   },
   "file_extension": ".py",
   "mimetype": "text/x-python",
   "name": "python",
   "nbconvert_exporter": "python",
   "pygments_lexer": "ipython3",
   "version": "3.7.4"
  }
 },
 "nbformat": 4,
 "nbformat_minor": 2
}
